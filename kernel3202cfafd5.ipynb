{
 "cells": [
  {
   "cell_type": "code",
   "execution_count": 1,
   "metadata": {
    "_cell_guid": "b1076dfc-b9ad-4769-8c92-a6c4dae69d19",
    "_uuid": "8f2839f25d086af736a60e9eeb907d3b93b6e0e5"
   },
   "outputs": [
    {
     "name": "stderr",
     "output_type": "stream",
     "text": [
      "Using TensorFlow backend.\n"
     ]
    }
   ],
   "source": [
    "import numpy as np # linear algebra\n",
    "import pandas as pd # data processing, CSV file I/O (e.g. pd.read_csv)\n",
    "import matplotlib.pyplot as plt\n",
    "import seaborn as sns\n",
    "\n",
    "import tensorflow as tf\n",
    "from keras import Sequential\n",
    "from keras.preprocessing.image import ImageDataGenerator\n",
    "from keras.layers import Conv2D, MaxPool2D, Flatten, Dense, BatchNormalization, Dropout\n",
    "from keras.callbacks import ReduceLROnPlateau, ModelCheckpoint, EarlyStopping\n",
    "from sklearn.model_selection import train_test_split\n",
    "\n",
    "test=pd.read_csv('../input/Kannada-MNIST/test.csv')\n",
    "train=pd.read_csv('../input/Kannada-MNIST/train.csv')\n",
    "val=pd.read_csv('../input/Kannada-MNIST/Dig-MNIST.csv')\n",
    "sub=pd.read_csv('../input/Kannada-MNIST/sample_submission.csv')"
   ]
  },
  {
   "cell_type": "code",
   "execution_count": 2,
   "metadata": {},
   "outputs": [],
   "source": [
    "y_train=train.pop('label')\n",
    "x_train=train\n",
    "\n",
    "y_val=val.pop('label')\n",
    "x_val=val\n",
    "\n",
    "x_train/=255.0\n",
    "x_val/=255.0\n",
    "\n",
    "test.drop(columns=['id'], inplace=True)\n",
    "test/=255.0"
   ]
  },
  {
   "cell_type": "code",
   "execution_count": 3,
   "metadata": {},
   "outputs": [],
   "source": [
    "x_train=x_train.values.reshape(-1, 28, 28, 1)\n",
    "x_val=x_val.values.reshape(-1, 28, 28, 1)\n",
    "test=test.values.reshape(-1, 28, 28, 1)"
   ]
  },
  {
   "cell_type": "code",
   "execution_count": 4,
   "metadata": {},
   "outputs": [],
   "source": [
    "#x_train, x_val, y_train, y_val = train_test_split(x_train, y_train, test_size = 0.1, random_state=2)"
   ]
  },
  {
   "cell_type": "code",
   "execution_count": 5,
   "metadata": {},
   "outputs": [],
   "source": [
    "EPOCHS = 50\n",
    "BATCH_SIZE = 64"
   ]
  },
  {
   "cell_type": "code",
   "execution_count": 6,
   "metadata": {},
   "outputs": [],
   "source": [
    "datagen=ImageDataGenerator(\n",
    "    rotation_range=30,\n",
    "    zoom_range=0.15,\n",
    "    width_shift_range=0.2,\n",
    "    height_shift_range=0.2,\n",
    "    shear_range=0.15,\n",
    "    horizontal_flip=False,\n",
    "    vertical_flip=False,\n",
    "    fill_mode=\"nearest\"\n",
    ")"
   ]
  },
  {
   "cell_type": "code",
   "execution_count": 7,
   "metadata": {},
   "outputs": [],
   "source": [
    "datagen.fit(x_train)"
   ]
  },
  {
   "cell_type": "code",
   "execution_count": 8,
   "metadata": {},
   "outputs": [],
   "source": [
    "reduceLR = ReduceLROnPlateau(\n",
    "    monitor = 'val_loss', \n",
    "    patience = 3, \n",
    "    verbose = 1, \n",
    "    factor = 0.3, \n",
    "    mode = 'min',\n",
    "    min_lr = 0.00001\n",
    ")\n",
    "\n",
    "checkpoint = ModelCheckpoint(\n",
    "    'weights.h5', \n",
    "    monitor = 'val_accuracy', \n",
    "    verbose = 1, \n",
    "    save_best_only = True, \n",
    "    mode = 'max'\n",
    ")\n",
    "\n",
    "early_stopping = EarlyStopping(\n",
    "    monitor = 'val_loss', \n",
    "    min_delta = 1e-10, \n",
    "    patience = 10, \n",
    "    verbose = 1, \n",
    "    restore_best_weights = True\n",
    ")\n",
    "\n",
    "callbacks=[reduceLR, checkpoint, early_stopping]"
   ]
  },
  {
   "cell_type": "code",
   "execution_count": 9,
   "metadata": {},
   "outputs": [],
   "source": [
    "model=Sequential([\n",
    "    Conv2D(32, kernel_size = 3, activation='relu', input_shape = (28, 28, 1)),\n",
    "    BatchNormalization(),\n",
    "    Conv2D(32, kernel_size = 3, activation='relu'),\n",
    "    BatchNormalization(),\n",
    "    Conv2D(32, kernel_size = 5, strides=2, padding = 'same', activation='relu'),\n",
    "    BatchNormalization(),\n",
    "    Dropout(0.4),\n",
    "    \n",
    "    Conv2D(64, kernel_size = 3, activation='relu'),\n",
    "    BatchNormalization(),\n",
    "    Conv2D(64, kernel_size = 3, activation='relu'),\n",
    "    BatchNormalization(),\n",
    "    Conv2D(64, kernel_size = 5, strides=2, padding = 'same', activation='relu'),\n",
    "    BatchNormalization(),\n",
    "    Dropout(0.4),\n",
    "    \n",
    "    Conv2D(128, kernel_size = 4, activation='relu'),\n",
    "    BatchNormalization(),\n",
    "    \n",
    "    Flatten(),\n",
    "    Dropout(0.4),\n",
    "    Dense(10, activation='softmax')\n",
    "])"
   ]
  },
  {
   "cell_type": "code",
   "execution_count": 10,
   "metadata": {},
   "outputs": [],
   "source": [
    "model.compile(loss='sparse_categorical_crossentropy',\n",
    "             optimizer='adam',\n",
    "             metrics=['accuracy'])"
   ]
  },
  {
   "cell_type": "code",
   "execution_count": 11,
   "metadata": {},
   "outputs": [
    {
     "name": "stdout",
     "output_type": "stream",
     "text": [
      "Model: \"sequential_1\"\n",
      "_________________________________________________________________\n",
      "Layer (type)                 Output Shape              Param #   \n",
      "=================================================================\n",
      "conv2d_1 (Conv2D)            (None, 26, 26, 32)        320       \n",
      "_________________________________________________________________\n",
      "batch_normalization_1 (Batch (None, 26, 26, 32)        128       \n",
      "_________________________________________________________________\n",
      "conv2d_2 (Conv2D)            (None, 24, 24, 32)        9248      \n",
      "_________________________________________________________________\n",
      "batch_normalization_2 (Batch (None, 24, 24, 32)        128       \n",
      "_________________________________________________________________\n",
      "conv2d_3 (Conv2D)            (None, 12, 12, 32)        25632     \n",
      "_________________________________________________________________\n",
      "batch_normalization_3 (Batch (None, 12, 12, 32)        128       \n",
      "_________________________________________________________________\n",
      "dropout_1 (Dropout)          (None, 12, 12, 32)        0         \n",
      "_________________________________________________________________\n",
      "conv2d_4 (Conv2D)            (None, 10, 10, 64)        18496     \n",
      "_________________________________________________________________\n",
      "batch_normalization_4 (Batch (None, 10, 10, 64)        256       \n",
      "_________________________________________________________________\n",
      "conv2d_5 (Conv2D)            (None, 8, 8, 64)          36928     \n",
      "_________________________________________________________________\n",
      "batch_normalization_5 (Batch (None, 8, 8, 64)          256       \n",
      "_________________________________________________________________\n",
      "conv2d_6 (Conv2D)            (None, 4, 4, 64)          102464    \n",
      "_________________________________________________________________\n",
      "batch_normalization_6 (Batch (None, 4, 4, 64)          256       \n",
      "_________________________________________________________________\n",
      "dropout_2 (Dropout)          (None, 4, 4, 64)          0         \n",
      "_________________________________________________________________\n",
      "conv2d_7 (Conv2D)            (None, 1, 1, 128)         131200    \n",
      "_________________________________________________________________\n",
      "batch_normalization_7 (Batch (None, 1, 1, 128)         512       \n",
      "_________________________________________________________________\n",
      "flatten_1 (Flatten)          (None, 128)               0         \n",
      "_________________________________________________________________\n",
      "dropout_3 (Dropout)          (None, 128)               0         \n",
      "_________________________________________________________________\n",
      "dense_1 (Dense)              (None, 10)                1290      \n",
      "=================================================================\n",
      "Total params: 327,242\n",
      "Trainable params: 326,410\n",
      "Non-trainable params: 832\n",
      "_________________________________________________________________\n"
     ]
    }
   ],
   "source": [
    "model.summary()"
   ]
  },
  {
   "cell_type": "code",
   "execution_count": 12,
   "metadata": {},
   "outputs": [
    {
     "name": "stdout",
     "output_type": "stream",
     "text": [
      "Epoch 1/50\n",
      "938/937 [==============================] - 35s 38ms/step - loss: 0.6149 - accuracy: 0.7971 - val_loss: 0.8722 - val_accuracy: 0.7803\n",
      "\n",
      "Epoch 00001: val_accuracy improved from -inf to 0.78027, saving model to weights.h5\n",
      "Epoch 2/50\n",
      "938/937 [==============================] - 33s 35ms/step - loss: 0.1666 - accuracy: 0.9485 - val_loss: 0.5595 - val_accuracy: 0.8608\n",
      "\n",
      "Epoch 00002: val_accuracy improved from 0.78027 to 0.86084, saving model to weights.h5\n",
      "Epoch 3/50\n",
      "938/937 [==============================] - 32s 35ms/step - loss: 0.1169 - accuracy: 0.9638 - val_loss: 0.5589 - val_accuracy: 0.8609\n",
      "\n",
      "Epoch 00003: val_accuracy improved from 0.86084 to 0.86094, saving model to weights.h5\n",
      "Epoch 4/50\n",
      "938/937 [==============================] - 32s 34ms/step - loss: 0.0960 - accuracy: 0.9706 - val_loss: 0.7967 - val_accuracy: 0.8132\n",
      "\n",
      "Epoch 00004: val_accuracy did not improve from 0.86094\n",
      "Epoch 5/50\n",
      "938/937 [==============================] - 32s 34ms/step - loss: 0.0848 - accuracy: 0.9736 - val_loss: 0.5721 - val_accuracy: 0.8699\n",
      "\n",
      "Epoch 00005: val_accuracy improved from 0.86094 to 0.86992, saving model to weights.h5\n",
      "Epoch 6/50\n",
      "938/937 [==============================] - 32s 34ms/step - loss: 0.0800 - accuracy: 0.9760 - val_loss: 0.8142 - val_accuracy: 0.8014\n",
      "\n",
      "Epoch 00006: ReduceLROnPlateau reducing learning rate to 0.0003000000142492354.\n",
      "\n",
      "Epoch 00006: val_accuracy did not improve from 0.86992\n",
      "Epoch 7/50\n",
      "938/937 [==============================] - 32s 34ms/step - loss: 0.0548 - accuracy: 0.9837 - val_loss: 0.4608 - val_accuracy: 0.8826\n",
      "\n",
      "Epoch 00007: val_accuracy improved from 0.86992 to 0.88262, saving model to weights.h5\n",
      "Epoch 8/50\n",
      "938/937 [==============================] - 32s 34ms/step - loss: 0.0485 - accuracy: 0.9859 - val_loss: 0.5759 - val_accuracy: 0.8601\n",
      "\n",
      "Epoch 00008: val_accuracy did not improve from 0.88262\n",
      "Epoch 9/50\n",
      "938/937 [==============================] - 33s 35ms/step - loss: 0.0457 - accuracy: 0.9861 - val_loss: 0.5546 - val_accuracy: 0.8595\n",
      "\n",
      "Epoch 00009: val_accuracy did not improve from 0.88262\n",
      "Epoch 10/50\n",
      "938/937 [==============================] - 32s 34ms/step - loss: 0.0455 - accuracy: 0.9865 - val_loss: 0.5225 - val_accuracy: 0.8668\n",
      "\n",
      "Epoch 00010: ReduceLROnPlateau reducing learning rate to 9.000000427477062e-05.\n",
      "\n",
      "Epoch 00010: val_accuracy did not improve from 0.88262\n",
      "Epoch 11/50\n",
      "938/937 [==============================] - 32s 34ms/step - loss: 0.0379 - accuracy: 0.9887 - val_loss: 0.4818 - val_accuracy: 0.8802\n",
      "\n",
      "Epoch 00011: val_accuracy did not improve from 0.88262\n",
      "Epoch 12/50\n",
      "938/937 [==============================] - 32s 34ms/step - loss: 0.0387 - accuracy: 0.9883 - val_loss: 0.4415 - val_accuracy: 0.8878\n",
      "\n",
      "Epoch 00012: val_accuracy improved from 0.88262 to 0.88779, saving model to weights.h5\n",
      "Epoch 13/50\n",
      "938/937 [==============================] - 32s 34ms/step - loss: 0.0349 - accuracy: 0.9893 - val_loss: 0.4386 - val_accuracy: 0.8895\n",
      "\n",
      "Epoch 00015: val_accuracy improved from 0.88799 to 0.88945, saving model to weights.h5\n",
      "Epoch 16/50\n",
      "938/937 [==============================] - 32s 34ms/step - loss: 0.0327 - accuracy: 0.9898 - val_loss: 0.4615 - val_accuracy: 0.8867\n",
      "\n",
      "Epoch 00016: val_accuracy did not improve from 0.88945\n",
      "Epoch 17/50\n",
      "938/937 [==============================] - 32s 34ms/step - loss: 0.0326 - accuracy: 0.9900 - val_loss: 0.4530 - val_accuracy: 0.8895\n",
      "\n",
      "Epoch 00017: val_accuracy did not improve from 0.88945\n",
      "Epoch 18/50\n",
      "938/937 [==============================] - 32s 34ms/step - loss: 0.0336 - accuracy: 0.9899 - val_loss: 0.4102 - val_accuracy: 0.8952\n",
      "\n",
      "Epoch 00018: val_accuracy improved from 0.88945 to 0.89521, saving model to weights.h5\n",
      "Epoch 19/50\n",
      "938/937 [==============================] - 33s 35ms/step - loss: 0.0319 - accuracy: 0.9904 - val_loss: 0.4245 - val_accuracy: 0.8929\n",
      "\n",
      "Epoch 00019: val_accuracy did not improve from 0.89521\n",
      "Epoch 20/50\n",
      "938/937 [==============================] - 32s 34ms/step - loss: 0.0330 - accuracy: 0.9900 - val_loss: 0.4501 - val_accuracy: 0.8859\n",
      "\n",
      "Epoch 00020: val_accuracy did not improve from 0.89521\n",
      "Epoch 21/50\n",
      "938/937 [==============================] - 32s 34ms/step - loss: 0.0316 - accuracy: 0.9909 - val_loss: 0.4772 - val_accuracy: 0.8843\n",
      "\n",
      "Epoch 00021: ReduceLROnPlateau reducing learning rate to 2.700000040931627e-05.\n",
      "\n",
      "Epoch 00021: val_accuracy did not improve from 0.89521\n",
      "Epoch 22/50\n",
      "938/937 [==============================] - 32s 34ms/step - loss: 0.0292 - accuracy: 0.9911 - val_loss: 0.4336 - val_accuracy: 0.8935\n",
      "\n",
      "Epoch 00022: val_accuracy did not improve from 0.89521\n",
      "Epoch 23/50\n",
      "938/937 [==============================] - 32s 34ms/step - loss: 0.0287 - accuracy: 0.9910 - val_loss: 0.4423 - val_accuracy: 0.8913\n",
      "\n",
      "Epoch 00023: val_accuracy did not improve from 0.89521\n",
      "Epoch 24/50\n",
      "938/937 [==============================] - 32s 34ms/step - loss: 0.0285 - accuracy: 0.9912 - val_loss: 0.4359 - val_accuracy: 0.8911\n",
      "\n",
      "Epoch 00024: ReduceLROnPlateau reducing learning rate to 1e-05.\n",
      "\n",
      "Epoch 00024: val_accuracy did not improve from 0.89521\n",
      "Epoch 25/50\n",
      "938/937 [==============================] - 32s 34ms/step - loss: 0.0278 - accuracy: 0.9918 - val_loss: 0.4399 - val_accuracy: 0.8903\n",
      "\n",
      "Epoch 00025: val_accuracy did not improve from 0.89521\n",
      "Epoch 26/50\n",
      "748/937 [======================>.......] - ETA: 6s - loss: 0.0300 - accuracy: 0.9915"
     ]
    }
   ],
   "source": [
    "#history=model.fit(x=x_train, y=y_train, validation_data=(x_val, y_val), epochs=20, batch_size=320)\n",
    "history = model.fit_generator(\n",
    "    datagen.flow(x_train, y_train, batch_size=BATCH_SIZE),\n",
    "    validation_data = (x_val, y_val),\n",
    "    steps_per_epoch = len(x_train) / BATCH_SIZE,\n",
    "    epochs = EPOCHS,\n",
    "    callbacks = callbacks\n",
    ")"
   ]
  },
  {
   "cell_type": "code",
   "execution_count": 13,
   "metadata": {},
   "outputs": [],
   "source": [
    "x=pd.DataFrame(history.history)"
   ]
  },
  {
   "cell_type": "code",
   "execution_count": 14,
   "metadata": {},
   "outputs": [
    {
     "data": {
      "text/plain": [
       "<matplotlib.axes._subplots.AxesSubplot at 0x7f16e1f61d30>"
      ]
     },
     "execution_count": 14,
     "metadata": {},
     "output_type": "execute_result"
    },
    {
     "data": {
      "image/png": "[encoded data removed]",
      "text/plain": [
       "<Figure size 432x288 with 1 Axes>"
      ]
     },
     "metadata": {
      "needs_background": "light"
     },
     "output_type": "display_data"
    }
   ],
   "source": [
    "sns.lineplot(data = x[['accuracy', 'val_accuracy']]) "
   ]
  },
  {
   "cell_type": "code",
   "execution_count": 15,
   "metadata": {},
   "outputs": [
    {
     "data": {
      "text/plain": [
       "<matplotlib.axes._subplots.AxesSubplot at 0x7f16e1d70e80>"
      ]
     },
     "execution_count": 15,
     "metadata": {},
     "output_type": "execute_result"
    },
    {
     "data": {
      "image/png": "[encoded data removed]",
      "text/plain": [
       "<Figure size 432x288 with 1 Axes>"
      ]
     },
     "metadata": {
      "needs_background": "light"
     },
     "output_type": "display_data"
    }
   ],
   "source": [
    "sns.lineplot(data = x[['loss', 'val_loss']]) "
   ]
  },
  {
   "cell_type": "code",
   "execution_count": 16,
   "metadata": {},
   "outputs": [],
   "source": [
    "pred = model.predict(test)\n",
    "sub['label'] = np.argmax(pred, axis = 1)\n",
    "sub.to_csv('submission.csv', index = False)"
   ]
  }
 ],
 "metadata": {
  "kernelspec": {
   "display_name": "Python 3",
   "language": "python",
   "name": "python3"
  },
  "language_info": {
   "codemirror_mode": {
    "name": "ipython",
    "version": 3
   },
   "file_extension": ".py",
   "mimetype": "text/x-python",
   "name": "python",
   "nbconvert_exporter": "python",
   "pygments_lexer": "ipython3",
   "version": "3.6.6"
  }
 },
 "nbformat": 4,
 "nbformat_minor": 1
}
